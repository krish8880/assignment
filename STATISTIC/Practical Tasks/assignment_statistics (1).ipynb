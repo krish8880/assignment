{
 "cells": [
  {
   "cell_type": "markdown",
   "id": "7178617c-a2b5-4072-9626-092dcc368810",
   "metadata": {},
   "source": [
    "# 1. Business Problem"
   ]
  },
  {
   "cell_type": "code",
   "execution_count": 22,
   "id": "27a83d00-ae09-4f31-8276-c520c4b2dedb",
   "metadata": {},
   "outputs": [],
   "source": [
    "# A. find the mean from the car rental company data"
   ]
  },
  {
   "cell_type": "code",
   "execution_count": 48,
   "id": "95d08df2-ba2e-4916-ad77-1d29d94622f9",
   "metadata": {},
   "outputs": [],
   "source": [
    "# 1 .A\n",
    "data = [3, 2, 5, 4, 7, 2, 3, 3, 1, 6, 4, 2, 3, 5, 2, 4, 2, 1, 3, 5, 6, 3, 2, 1, 4, 2, 4, 5, 3, 2, 7, 2, 3, 4, 5, 1, 6, 2, 4, 3, 5]"
   ]
  },
  {
   "cell_type": "code",
   "execution_count": 50,
   "id": "07fec69d-9384-4e60-bda3-7c89ecc8329d",
   "metadata": {},
   "outputs": [
    {
     "name": "stdout",
     "output_type": "stream",
     "text": [
      "mean : 3.4390243902439024\n"
     ]
    }
   ],
   "source": [
    "import numpy as np \n",
    "from scipy import stats \n",
    "print(\"mean :\",np.mean(data))"
   ]
  },
  {
   "cell_type": "code",
   "execution_count": 52,
   "id": "9422b65b-bb77-43ae-ba73-9e84c9ed5c80",
   "metadata": {},
   "outputs": [],
   "source": [
    "# b. find the median from the car rental company data"
   ]
  },
  {
   "cell_type": "code",
   "execution_count": 54,
   "id": "88e98e80-d429-42d3-8b2b-8da5c764ba30",
   "metadata": {},
   "outputs": [
    {
     "name": "stdout",
     "output_type": "stream",
     "text": [
      "median : 3.0\n"
     ]
    }
   ],
   "source": [
    "import numpy as np \n",
    "from scipy import stats \n",
    "print(\"median :\",np.median(data))"
   ]
  },
  {
   "cell_type": "code",
   "execution_count": 56,
   "id": "bef9579b-89d3-44a1-8ceb-08ad9c5606a1",
   "metadata": {},
   "outputs": [],
   "source": [
    "# c.find the mode from the car rental company"
   ]
  },
  {
   "cell_type": "code",
   "execution_count": 60,
   "id": "167e0807-26ed-40e7-8a67-3871d3b45ef5",
   "metadata": {},
   "outputs": [
    {
     "name": "stdout",
     "output_type": "stream",
     "text": [
      "mode: 2\n"
     ]
    }
   ],
   "source": [
    "import numpy as np \n",
    "from scipy import stats \n",
    "mode = stats.mode(data, keepdims=False).mode\n",
    "print(\"mode:\", mode)"
   ]
  },
  {
   "cell_type": "markdown",
   "id": "236b23f9-08d4-4541-a6f1-2b05772dc429",
   "metadata": {},
   "source": [
    "# 2.  Ane-commerce platform wants to analyze the delivery times of its shipments to understand the variability in order fulfillment and optimize its logistics operations"
   ]
  },
  {
   "cell_type": "code",
   "execution_count": 63,
   "id": "fdf44a44-9811-4f47-a25e-8f935930ce08",
   "metadata": {},
   "outputs": [],
   "source": [
    "# question 2 \n",
    "# a. find the range of delivery time "
   ]
  },
  {
   "cell_type": "code",
   "execution_count": 65,
   "id": "a1e3abaa-e944-4b4c-bc54-d4f843bca261",
   "metadata": {},
   "outputs": [],
   "source": [
    "time =[ 3, 5, 2, 4, 6, 2, 3, 4, 2, 5,\n",
    "    7, 2, 3, 4, 2, 4, 2, 3, 5, 6,\n",
    "    3, 2, 1, 4, 2, 4, 5, 3, 2, 7,\n",
    "    2, 3, 4, 5, 1, 6, 2, 4, 3, 5,\n",
    "    3, 2, 4, 2, 6, 3, 2, 4, 5, 3]"
   ]
  },
  {
   "cell_type": "code",
   "execution_count": 67,
   "id": "6a5e5798-8c78-4dd2-bd36-fcecc230c618",
   "metadata": {},
   "outputs": [
    {
     "name": "stdout",
     "output_type": "stream",
     "text": [
      "max: 7\n",
      "min : 1\n",
      "range : 6\n"
     ]
    }
   ],
   "source": [
    "max_time = max(time)\n",
    "print(\"max:\",max_time)\n",
    "min_time= min(time)\n",
    "print(\"min :\",min_time)\n",
    "range_time = max_time - min_time\n",
    "print(\"range :\",range_time)"
   ]
  },
  {
   "cell_type": "code",
   "execution_count": 69,
   "id": "71793e96-dc9b-484a-b636-278d210b1f2b",
   "metadata": {},
   "outputs": [],
   "source": [
    "# b. find the variance of delivery time"
   ]
  },
  {
   "cell_type": "code",
   "execution_count": 71,
   "id": "a43ae4de-bc33-49f1-9fbb-4141452f9524",
   "metadata": {},
   "outputs": [
    {
     "name": "stdout",
     "output_type": "stream",
     "text": [
      "variance : 2.2896\n"
     ]
    }
   ],
   "source": [
    "import numpy as np\n",
    "variance = np.var(time)\n",
    "print(\"variance :\",variance)"
   ]
  },
  {
   "cell_type": "code",
   "execution_count": 73,
   "id": "d5acb640-3555-4cdc-9887-6425896e7549",
   "metadata": {},
   "outputs": [],
   "source": [
    "# c. find the SD of delivery time  "
   ]
  },
  {
   "cell_type": "code",
   "execution_count": 75,
   "id": "13f7fc7c-665b-4e01-889d-94ad6f190484",
   "metadata": {},
   "outputs": [
    {
     "name": "stdout",
     "output_type": "stream",
     "text": [
      "standerd division:  1.513142425550219\n"
     ]
    }
   ],
   "source": [
    "SD = np.std(time)\n",
    "print(\"standerd division: \" ,SD)"
   ]
  },
  {
   "cell_type": "markdown",
   "id": "bf928f5d-5eba-4931-82a1-719e10388b50",
   "metadata": {},
   "source": [
    "# 3.  Acompany wants to analyze the monthly revenue generated by one of its products to understand its performance and variability"
   ]
  },
  {
   "cell_type": "code",
   "execution_count": 78,
   "id": "05a319e6-8f02-4881-ac47-09732fd7817d",
   "metadata": {},
   "outputs": [],
   "source": [
    "# question 3 \n",
    "# Measure of Central Tendency: What is the average monthly revenue forthe product?"
   ]
  },
  {
   "cell_type": "code",
   "execution_count": 80,
   "id": "a0f26e0f-57df-4290-9b70-e9b49237ee3d",
   "metadata": {},
   "outputs": [],
   "source": [
    "revenue = [120, 150, 110, 135, 125, 140, 130, 155, 115,145, 135, 130]"
   ]
  },
  {
   "cell_type": "code",
   "execution_count": 82,
   "id": "0ea6bc00-250e-4e36-bd44-581e086ac76a",
   "metadata": {},
   "outputs": [
    {
     "name": "stdout",
     "output_type": "stream",
     "text": [
      "avg revenue :  132.5\n",
      "range revenur:  45\n"
     ]
    }
   ],
   "source": [
    "import numpy as np\n",
    "avg_revenue = np.mean(revenue)\n",
    "print(\"avg revenue : \",avg_revenue)\n",
    "range_revenue = max(revenue) - min(revenue)\n",
    "print(\"range revenur: \" ,range_revenue)"
   ]
  },
  {
   "cell_type": "markdown",
   "id": "6ff08780-4dda-41ec-814f-ca5df95e2aec",
   "metadata": {},
   "source": [
    "# 4.Atransportation company wants to analyze the fuel efficiency of its vehicle fleet to identify any variations across different vehicle models"
   ]
  },
  {
   "cell_type": "code",
   "execution_count": 85,
   "id": "0530e64c-d2a6-4eda-a3cb-854724cec7d4",
   "metadata": {},
   "outputs": [],
   "source": [
    "# question 4 \n",
    "# find the range , mean , variance "
   ]
  },
  {
   "cell_type": "code",
   "execution_count": 87,
   "id": "b401a549-0a2f-43fd-9f28-b0b3d3fc89e6",
   "metadata": {},
   "outputs": [],
   "source": [
    "model_a= [30, 32, 33, 28, 31, 30, 29, 30, 32, 31]"
   ]
  },
  {
   "cell_type": "code",
   "execution_count": 89,
   "id": "72672fab-d9b3-40b6-acb7-30be0d5ed05f",
   "metadata": {},
   "outputs": [
    {
     "name": "stdout",
     "output_type": "stream",
     "text": [
      "range: 5\n",
      "mean: 30.6\n",
      "variance: 2.0400000000000005\n"
     ]
    }
   ],
   "source": [
    "import numpy as np\n",
    "range_a = max(model_a) - min(model_a)\n",
    "print(\"range:\",range_a)\n",
    "mean = np.mean(model_a)\n",
    "print(\"mean:\",mean)\n",
    "variance = np.var(model_a)\n",
    "print(\"variance:\",variance)"
   ]
  },
  {
   "cell_type": "code",
   "execution_count": 91,
   "id": "afedfa6a-1ba6-4294-86f9-d52cd64bce0e",
   "metadata": {},
   "outputs": [],
   "source": [
    "model_b = [ 25, 27, 26, 23, 28, 24, 26, 25, 27, 28]"
   ]
  },
  {
   "cell_type": "code",
   "execution_count": 93,
   "id": "0fa8535e-b73b-43c9-9044-4f360f8126fe",
   "metadata": {},
   "outputs": [
    {
     "name": "stdout",
     "output_type": "stream",
     "text": [
      "range: 5\n",
      "mean: 25.9\n",
      "variance: 2.49\n"
     ]
    }
   ],
   "source": [
    "import numpy as np\n",
    "range_b = max(model_b) - min(model_b)\n",
    "print(\"range:\",range_b)\n",
    "mean = np.mean(model_b)\n",
    "print(\"mean:\",mean)\n",
    "variance = np.var(model_b)\n",
    "print(\"variance:\",variance)"
   ]
  },
  {
   "cell_type": "code",
   "execution_count": 95,
   "id": "a8763f51-4280-4da1-9919-30d67e905862",
   "metadata": {},
   "outputs": [],
   "source": [
    "model_c = [ 22, 23, 20, 25, 21, 24, 23, 22, 25, 24 ] "
   ]
  },
  {
   "cell_type": "code",
   "execution_count": 97,
   "id": "e3127b91-b994-461a-bf65-38ee85b1a75e",
   "metadata": {},
   "outputs": [
    {
     "name": "stdout",
     "output_type": "stream",
     "text": [
      "range: 5\n",
      "mean: 22.9\n",
      "variance: 2.4899999999999998\n"
     ]
    }
   ],
   "source": [
    "import numpy as np\n",
    "range_c = max(model_c) - min(model_c)\n",
    "print(\"range:\",range_c)\n",
    "mean = np.mean(model_c)\n",
    "print(\"mean:\",mean)\n",
    "variance = np.var(model_c)\n",
    "print(\"variance:\",variance)"
   ]
  },
  {
   "cell_type": "code",
   "execution_count": 99,
   "id": "1310b813-b7aa-4728-88e0-5ce5718bd2fb",
   "metadata": {},
   "outputs": [],
   "source": [
    "model_d = [18, 17, 19, 20, 21, 18, 19, 17, 20, 19]"
   ]
  },
  {
   "cell_type": "code",
   "execution_count": 101,
   "id": "3b6d5f92-7c8c-44b3-94c1-ed80160a0c32",
   "metadata": {},
   "outputs": [
    {
     "name": "stdout",
     "output_type": "stream",
     "text": [
      "range: 4\n",
      "mean: 18.8\n",
      "variance: 1.56\n"
     ]
    }
   ],
   "source": [
    "import numpy as np\n",
    "range_d = max(model_d) - min(model_d)\n",
    "print(\"range:\",range_d)\n",
    "mean = np.mean(model_d)\n",
    "print(\"mean:\",mean)\n",
    "variance = np.var(model_d)\n",
    "print(\"variance:\",variance)"
   ]
  },
  {
   "cell_type": "code",
   "execution_count": 103,
   "id": "0853cdb5-d0f3-4bfa-b7ea-d8647da58fb3",
   "metadata": {},
   "outputs": [],
   "source": [
    "model_e = [ 35, 36, 34, 35, 33, 34, 32, 33, 36, 34]"
   ]
  },
  {
   "cell_type": "code",
   "execution_count": 105,
   "id": "70295a74-f69e-4cb1-82b2-a4bf3a0f689a",
   "metadata": {},
   "outputs": [
    {
     "name": "stdout",
     "output_type": "stream",
     "text": [
      "range: 4\n",
      "mean: 34.2\n",
      "variance: 1.5599999999999998\n"
     ]
    }
   ],
   "source": [
    "import numpy as np\n",
    "range_e = max(model_e) - min(model_e)\n",
    "print(\"range:\",range_e)\n",
    "mean = np.mean(model_e)\n",
    "print(\"mean:\",mean)\n",
    "variance = np.var(model_e)\n",
    "print(\"variance:\",variance)"
   ]
  },
  {
   "cell_type": "markdown",
   "id": "35a0e723-fe97-48e5-91ef-e2aab95cf3de",
   "metadata": {},
   "source": [
    "# 5.  Amanufacturing company wants to analyze the defect rates of its production line to identify the frequency of different types of defects"
   ]
  },
  {
   "cell_type": "code",
   "execution_count": 108,
   "id": "8d4ec81f-b6aa-4976-9474-6ea0c28b831f",
   "metadata": {},
   "outputs": [],
   "source": [
    "# question 5\n",
    "# a. "
   ]
  },
  {
   "cell_type": "code",
   "execution_count": 110,
   "id": "203bdc75-91db-4c8d-9353-266db5bc1a74",
   "metadata": {},
   "outputs": [
    {
     "data": {
      "image/png": "[encoded data removed]",
      "text/plain": [
       "<Figure size 700x300 with 1 Axes>"
      ]
     },
     "metadata": {},
     "output_type": "display_data"
    }
   ],
   "source": [
    "import matplotlib.pyplot as plt\n",
    "\n",
    "defect_types = ['A', 'B', 'C', 'D', 'E', 'F', 'G']\n",
    "frequencies = [30, 40, 20, 10, 45, 25, 30]\n",
    "plt.figure(figsize=(7,3))\n",
    "plt.bar(defect_types, frequencies, color='pink', edgecolor='red')\n",
    "plt.title('Frequency of Defect Types')\n",
    "plt.xlabel('Defect Type')\n",
    "plt.ylabel('Frequency')\n",
    "plt.grid(axis='y', linestyle='--', alpha=0.7)\n",
    "plt.show()\n"
   ]
  },
  {
   "cell_type": "code",
   "execution_count": 112,
   "id": "3f9efb8b-5d2b-491d-8a17-bb27dd349246",
   "metadata": {},
   "outputs": [],
   "source": [
    "# b. Most Common Defect :  Which defect type has the highest frequency?"
   ]
  },
  {
   "cell_type": "code",
   "execution_count": 114,
   "id": "31b55d67-a7a2-4dda-927e-65fc8d639628",
   "metadata": {},
   "outputs": [],
   "source": [
    "import numpy as np \n",
    "from scipy import stats as stats"
   ]
  },
  {
   "cell_type": "code",
   "execution_count": 116,
   "id": "7046c7ee-57a7-4c6c-92b9-0bca8f6dd271",
   "metadata": {},
   "outputs": [
    {
     "name": "stdout",
     "output_type": "stream",
     "text": [
      "most common defect: 30\n"
     ]
    }
   ],
   "source": [
    "defeat_rate = [30, 40, 20, 10, 45, 25, 30]\n",
    "mode = stats.mode(defeat_rate, keepdims=False).mode\n",
    "print(\"most common defect:\", mode)"
   ]
  },
  {
   "cell_type": "code",
   "execution_count": 118,
   "id": "d83a9796-0af5-4066-9436-26c6c0ed9d2e",
   "metadata": {},
   "outputs": [],
   "source": [
    "# c. histrogram: Create a histogram to represent the defect frequencies."
   ]
  },
  {
   "cell_type": "code",
   "execution_count": 120,
   "id": "51a11d27-1077-4a9f-b7aa-9755ee33430a",
   "metadata": {},
   "outputs": [
    {
     "data": {
      "image/png": "[encoded data removed]",
      "text/plain": [
       "<Figure size 640x480 with 1 Axes>"
      ]
     },
     "metadata": {},
     "output_type": "display_data"
    }
   ],
   "source": [
    "import matplotlib.pyplot as plt\n",
    "frequencies = [30, 40, 20, 10, 45, 25, 30]\n",
    "plt.hist(frequencies, bins=7, color='grey', edgecolor='black')\n",
    "plt.xlabel('frequency range')\n",
    "plt.ylabel('count')\n",
    "plt.title('histrogram of defect frequencies')\n",
    "plt.show()"
   ]
  },
  {
   "cell_type": "markdown",
   "id": "fdfaccee-a1c1-4e58-ba6b-27a920074ddf",
   "metadata": {},
   "source": [
    "# 6.  Asurvey was conducted to analyze the satisfaction ratings of customers on a scale of 1 to 5 for a specific product."
   ]
  },
  {
   "cell_type": "code",
   "execution_count": 123,
   "id": "686641d6-03d7-4117-885f-a56261a03a3a",
   "metadata": {},
   "outputs": [],
   "source": [
    "# question 6\n",
    "# a.  Skewness: Calculate the skewness of the satisfaction ratings."
   ]
  },
  {
   "cell_type": "code",
   "execution_count": 125,
   "id": "f40d0262-37f6-4158-9d3c-95a7a08156c5",
   "metadata": {},
   "outputs": [
    {
     "name": "stdout",
     "output_type": "stream",
     "text": [
      "skewness: -0.20773281879682218\n"
     ]
    }
   ],
   "source": [
    "import numpy as np\n",
    "from scipy.stats import skew\n",
    "\n",
    "ratings = [4, 5, 3, 4, 4, 3, 2, 5, 4, 3, 5, 4, 2, 3, 4, 5, 3, 4, 5, 3, 4, 3, 2, 4, 5, 3, 4, 5, 4, 3, 3, \n",
    "           4, 5, 2, 3, 4, 4, 3, 5, 4, 3, 4, 5, 4, 2, 3, 4, 5, 3, 4, 5, 4, 3, 4, 5, 3, 4, 5, 4, 3, 3, 4, \n",
    "           5, 2, 3, 4, 4, 3, 5, 4, 3, 4, 5, 4, 2, 3, 4, 5, 3, 4, 5, 4, 3, 4, 5, 3, 4, 5, 4, 3, 3, 4, 5, \n",
    "           2, 3, 4, 4, 3, 5, 4]\n",
    "skewness= skew(ratings)\n",
    "print(\"skewness:\", skewness)"
   ]
  },
  {
   "cell_type": "code",
   "execution_count": 127,
   "id": "3732a44c-38ce-449e-ac34-ea95218f0c30",
   "metadata": {},
   "outputs": [],
   "source": [
    "#b. Kurtosis: Calculate the kurtosis of the satisfaction ratings."
   ]
  },
  {
   "cell_type": "code",
   "execution_count": 129,
   "id": "87be71df-bae7-4bd9-ae47-558f7435ae19",
   "metadata": {},
   "outputs": [],
   "source": [
    "import numpy as np\n",
    "from scipy.stats import kurtosis"
   ]
  },
  {
   "cell_type": "code",
   "execution_count": 131,
   "id": "b674f3c4-cb58-43e0-8439-36c85256ee87",
   "metadata": {},
   "outputs": [
    {
     "name": "stdout",
     "output_type": "stream",
     "text": [
      "kurtosis: 2.42878564961521\n"
     ]
    }
   ],
   "source": [
    "ratings = ([2] * 8 +     [3] * 72 +    [4] * 88 +    [5] * 32)\n",
    "kurtosis_rating = kurtosis(ratings, fisher=False) \n",
    "print(\"kurtosis:\", kurtosis_rating)"
   ]
  },
  {
   "cell_type": "markdown",
   "id": "176780df-ff2f-4501-b325-6e52ece7388e",
   "metadata": {},
   "source": [
    "# 7 .  Aresearch study wants to analyze the weight distribution of a sample of individuals to assess their health and body composition."
   ]
  },
  {
   "cell_type": "code",
   "execution_count": 136,
   "id": "b6d46b35-0cb9-4894-81e3-f1f5cd0de56b",
   "metadata": {},
   "outputs": [],
   "source": [
    "# question 7\n",
    "#A. Quartiles: Calculate the first quartile (Q1), median (Q2), and third quartile (Q3) of the weight distribution."
   ]
  },
  {
   "cell_type": "code",
   "execution_count": 146,
   "id": "ded318f8-f19a-42a1-9e4a-0e56f4dd2c2f",
   "metadata": {},
   "outputs": [
    {
     "name": "stdout",
     "output_type": "stream",
     "text": [
      "Q1: 143.75\n",
      "Q2: 267.5\n",
      "Q2: 267.5\n"
     ]
    }
   ],
   "source": [
    "import numpy as np\n",
    "weights = np.array([55, 60, 62, 65, 68, 70, 72, 75, 78, 80, 82, 85, 88, 90, 92, 95, 100, 105, 110, 115,\n",
    "                    120, 125, 130, 135, 140, 145, 150, 155, 160, 165, 170, 175, 180, 185, 190, 195,\n",
    "                    200, 205, 210, 215, 220, 225, 230, 235, 240, 245, 250, 255, 260, 265, 270, 275,\n",
    "                    280, 285, 290, 295, 300, 305, 310, 315, 320, 325, 330, 335, 340, 345, 350, 355,\n",
    "                    360, 365, 370, 375, 380, 385, 390, 395, 400, 405, 410, 415, 420, 425, 430, 435,\n",
    "                    440, 445, 450, 455, 460, 465, 470, 475, 480, 485, 490, 495, 500, 505, 510, 515])\n",
    "Q1 = np.percentile(weights, 25)  \n",
    "Q2 = np.percentile(weights,50)         \n",
    "Q3 = np.percentile(weights, 75) \n",
    "print(\"Q1:\",Q1)\n",
    "print(\"Q2:\",Q2)\n",
    "print(\"Q2:\",Q2)"
   ]
  },
  {
   "cell_type": "code",
   "execution_count": 148,
   "id": "38de406a-0c47-4fb2-9331-121e88bdbdcc",
   "metadata": {},
   "outputs": [],
   "source": [
    "# B .  Percentiles: Calculate the 15th percentile, 50th percentile, and 85th percentile of the weight distribution."
   ]
  },
  {
   "cell_type": "code",
   "execution_count": 150,
   "id": "f9fb2f11-9a82-4a00-abcf-62be1c06a75c",
   "metadata": {},
   "outputs": [
    {
     "name": "stdout",
     "output_type": "stream",
     "text": [
      "percentile of 15th: 94.55\n",
      "percentile of 50th: 267.5\n",
      "percentile of 85th: 440.74999999999994\n"
     ]
    }
   ],
   "source": [
    "import numpy as np\n",
    "weights = np.array([55, 60, 62, 65, 68, 70, 72, 75, 78, 80, 82, 85, 88, 90, 92, 95, 100, 105, 110, 115,\n",
    "                    120, 125, 130, 135, 140, 145, 150, 155, 160, 165, 170, 175, 180, 185, 190, 195,\n",
    "                    200, 205, 210, 215, 220, 225, 230, 235, 240, 245, 250, 255, 260, 265, 270, 275,\n",
    "                    280, 285, 290, 295, 300, 305, 310, 315, 320, 325, 330, 335, 340, 345, 350, 355,\n",
    "                    360, 365, 370, 375, 380, 385, 390, 395, 400, 405, 410, 415, 420, 425, 430, 435,\n",
    "                    440, 445, 450, 455, 460, 465, 470, 475, 480, 485, 490, 495, 500, 505, 510, 515])\n",
    "pr_15 = np.percentile(weights,15)\n",
    "pr_50 = np.percentile(weights,50)\n",
    "pr_85 = np.percentile(weights,85)\n",
    "\n",
    "print(\"percentile of 15th:\",pr_15)\n",
    "print(\"percentile of 50th:\",pr_50)\n",
    "print(\"percentile of 85th:\",pr_85)"
   ]
  },
  {
   "cell_type": "markdown",
   "id": "c0f8657f-d03d-4593-86fc-9159b749b978",
   "metadata": {},
   "source": [
    "# 8. Aresearcher wants to examine the relationship between the hours spent studying and the exam scores of a group of students."
   ]
  },
  {
   "cell_type": "code",
   "execution_count": null,
   "id": "b2665209-f7f6-43aa-a070-e1f34feb3d35",
   "metadata": {},
   "outputs": [],
   "source": [
    "'''Calculate the correlation coefficient between the hours spent studying and the\n",
    " exam scores. Interpret the value of the correlation coefficient and explain the\n",
    " nature of the relationship between studying hours and exam scores.'''"
   ]
  },
  {
   "cell_type": "code",
   "execution_count": 155,
   "id": "4a03623d-e759-4e80-b490-5904d45e9178",
   "metadata": {},
   "outputs": [
    {
     "name": "stdout",
     "output_type": "stream",
     "text": [
      "corelation coefficient 0.9772950830186736\n"
     ]
    }
   ],
   "source": [
    "# question 8\n",
    "import numpy as np\n",
    "study_hours = [10, 12, 15, 18, 20, 22, 25, 28, 30, 32, 35, 38, 40, 42, 45,\n",
    "         48, 50, 52, 55, 58, 60, 62, 65, 68, 70, 72, 75, 78, 80, 82]\n",
    "exam_score =  [60, 65, 70, 75, 80, 82, 85, 88, 90, 92, 93, 95, 96, 97, 98,\n",
    "          99, 100, 102, 105, 106, 107, 108, 110, 112, 114, 115, 116, 118, 120, 122]\n",
    "corelation = np.corrcoef(study_hours, exam_score)[0][1]\n",
    "print(\"corelation coefficient\",corelation)\n"
   ]
  },
  {
   "cell_type": "markdown",
   "id": "6b9be212-f80c-4e82-9f07-5b8ef1336f8b",
   "metadata": {},
   "source": [
    "# 9. Amultiple-choice test consists of 10 questions, each with four possible answers. If astudent randomly guesses on each question, what is the probability of getting at least 8 questions correct? Data: Number of questions (n) = 10, Number of possible answers per question (k) = 4"
   ]
  },
  {
   "cell_type": "code",
   "execution_count": 6,
   "id": "03e2f52c-84a8-477d-9cd8-1d8848463244",
   "metadata": {},
   "outputs": [
    {
     "data": {
      "text/plain": [
       "0.000415802001953125"
      ]
     },
     "execution_count": 6,
     "metadata": {},
     "output_type": "execute_result"
    }
   ],
   "source": [
    "# question 9\n",
    "from math import comb\n",
    "p =0.25\n",
    "q = 1-p\n",
    "n=10\n",
    "prob = sum(comb(n,x) * (p**x) * (q**(n-x)) for x in range(8,11))\n",
    "prob"
   ]
  },
  {
   "cell_type": "markdown",
   "id": "802a0e5e-e5cb-4fed-b9a6-aa485acda670",
   "metadata": {},
   "source": [
    "# 10. The lifetimes of a certain brand of light bulbs are normally distributed with a mean of 1000 hours and a standard deviation of 100 hours. What  the probability that a randomly selected light bulb lasts between 900 and 1100 hours? Data: Mean lifetime (μ) = 1000 hours, Standard deviation (σ) = 100 hours, Lifetime range (lower limit x1, upper limit x2)"
   ]
  },
  {
   "cell_type": "code",
   "execution_count": 163,
   "id": "745b8543-e9f5-4f3a-b90b-6077694c8f65",
   "metadata": {},
   "outputs": [
    {
     "name": "stdout",
     "output_type": "stream",
     "text": [
      "probabliliy :  0.6826894921370859\n"
     ]
    }
   ],
   "source": [
    "# question 10\n",
    "from scipy.stats import norm\n",
    "\n",
    "mean = 1000\n",
    "sigma = 100\n",
    "x1 , x2 = 900 , 1100\n",
    "\n",
    "prob = norm.cdf(x2,mean,sigma) - norm.cdf(x1,mu,sigma)\n",
    "print(\"probabliliy : \",prob)"
   ]
  },
  {
   "cell_type": "markdown",
   "id": "71be28ee-9833-4f8c-95b8-d646ba21e3c4",
   "metadata": {},
   "source": [
    "# 12. A manufacturing company claims that the average weight of its product is 500 grams. To test this claim, a random sample of 25 products is selected, and their weights are measured. The sample mean weight is found to be 510 grams with a ample standard deviation of 20 grams. Perform a hypothesis test to determine if there is evidence to support the company's claim. Data: Sample size (n) = 25, Sample mean (x) = 510 grams, Sample standard deviation (s) = 20 grams  Population mean (μ) = 500 grams\n"
   ]
  },
  {
   "cell_type": "code",
   "execution_count": 7,
   "id": "11f5be80-bf5e-4df0-8d62-7a6a237d9b67",
   "metadata": {},
   "outputs": [],
   "source": [
    "# question 12\n",
    "import numpy as np\n",
    "from scipy import stats"
   ]
  },
  {
   "cell_type": "code",
   "execution_count": 9,
   "id": "b7588916-b7e1-4ab7-af14-5fb7eb649abf",
   "metadata": {},
   "outputs": [
    {
     "name": "stdout",
     "output_type": "stream",
     "text": [
      "reject the null hypothesis\n"
     ]
    }
   ],
   "source": [
    "#sample info\n",
    "sample_mean = 510\n",
    "sample_sd = 20\n",
    "sample_size = 25\n",
    "\n",
    "#population\n",
    "population_mean = 500\n",
    "\n",
    "df = sample_size-1\n",
    "se = sample_sd/np.sqrt(sample_size)\n",
    "\n",
    "t_stat = (sample_mean - population_mean)/se\n",
    "\n",
    "p_value = 2 * (1 - stats.t.cdf(abs(t_stat), df))\n",
    "alpha = 0.05\n",
    "if p_value<alpha:\n",
    "    print(\"reject the null hypothesis\")\n",
    "else:\n",
    "    print(\"failed to reject the null hypothesis\")\n",
    "    \n",
    "               "
   ]
  },
  {
   "cell_type": "markdown",
   "id": "698445b4-baf9-4769-ba31-3aac7e00de0b",
   "metadata": {},
   "source": [
    "# 13.A researcher wants to test whether a new teaching method improves student performance. A random sample of 50 students is divided into two groups: one group taught using the new method and the other using the traditional method. The average test scores of the two groups are compared. State the null and alternative hypotheses for this study. Data: Sample size (n) = 50, Test scores of the two groups"
   ]
  },
  {
   "cell_type": "code",
   "execution_count": 12,
   "id": "db44dd4a-97ae-4d72-af91-03269275e821",
   "metadata": {},
   "outputs": [
    {
     "name": "stdout",
     "output_type": "stream",
     "text": [
      "0.07682212795973759\n",
      "48\n",
      "0.9390843722220845\n",
      "failed to reject the null hypothesis\n"
     ]
    }
   ],
   "source": [
    "# question 13 \n",
    "#sample\n",
    "import numpy as np\n",
    "from scipy import stats\n",
    "n1= 25\n",
    "mean1 = 75\n",
    "std1= 10\n",
    "\n",
    "n2 = 25\n",
    "mean2 = 72\n",
    "std2 = 12\n",
    "\n",
    "sp_squared = (((n1 - 1) * std1**2) + ((n2 - 1) * std2**2)) / (n1 + n2 - 2)\n",
    "sp = np.sqrt(sp_squared)\n",
    "#t_stat\n",
    "t_stat = (mean1-mean2)/sp * np.sqrt(1/n1 + 1/n2)\n",
    "\n",
    "\n",
    "df = n1 + n2 -2\n",
    "\n",
    "#p-value\n",
    "p_value = 2*(1-stats.t.cdf(abs(t_stat),df))\n",
    "print(t_stat)\n",
    "print(df)\n",
    "print(p_value)\n",
    "\n",
    "alpha = 0.05\n",
    "if p_value<alpha:\n",
    "    print(\"reject the null hypothsis\")\n",
    "\n",
    "else:\n",
    "    print(\"failed to reject the null hypothesis\")"
   ]
  },
  {
   "cell_type": "code",
   "execution_count": null,
   "id": "69c0b66d-2053-4629-8407-de2e8bfffbd8",
   "metadata": {},
   "outputs": [],
   "source": []
  },
  {
   "cell_type": "code",
   "execution_count": null,
   "id": "7307f58a-f516-4d6d-a85c-20a370fb73c9",
   "metadata": {},
   "outputs": [],
   "source": []
  }
 ],
 "metadata": {
  "kernelspec": {
   "display_name": "Python [conda env:base] *",
   "language": "python",
   "name": "conda-base-py"
  },
  "language_info": {
   "codemirror_mode": {
    "name": "ipython",
    "version": 3
   },
   "file_extension": ".py",
   "mimetype": "text/x-python",
   "name": "python",
   "nbconvert_exporter": "python",
   "pygments_lexer": "ipython3",
   "version": "3.12.7"
  }
 },
 "nbformat": 4,
 "nbformat_minor": 5
}
